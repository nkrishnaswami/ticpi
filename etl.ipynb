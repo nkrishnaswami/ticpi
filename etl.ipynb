{
 "cells": [
  {
   "cell_type": "code",
   "execution_count": null,
   "metadata": {},
   "outputs": [],
   "source": [
    "import numpy as np\n",
    "import pandas as pd\n",
    "import re\n",
    "from requests_html import HTMLSession"
   ]
  },
  {
   "cell_type": "markdown",
   "metadata": {},
   "source": [
    "First we download the data for 2017"
   ]
  },
  {
   "cell_type": "code",
   "execution_count": null,
   "metadata": {},
   "outputs": [],
   "source": [
    "cpi2017 = pd.read_excel('http://files.transparency.org/content/download/2172/13704/file/CPI2017_FullDataSet.xlsx', skiprows=2, skipfooter=2)"
   ]
  },
  {
   "cell_type": "markdown",
   "metadata": {},
   "source": [
    "Then for prior years."
   ]
  },
  {
   "cell_type": "code",
   "execution_count": null,
   "metadata": {},
   "outputs": [],
   "source": [
    "cpi_older = pd.read_excel('http://www.transparency.org/assets/data/sets/cpi_1995_2016.xlsx',\n",
    "                         header=1, skiprows=5)"
   ]
  },
  {
   "cell_type": "markdown",
   "metadata": {},
   "source": [
    "We are only interested in data for years since 2012, where CPI methodology became year-on-year comparable.  We will also retain the World Bank income group and region code."
   ]
  },
  {
   "cell_type": "code",
   "execution_count": null,
   "metadata": {},
   "outputs": [],
   "source": [
    "cpi_older = cpi_older.loc[1:, [\n",
    "    'Country/Territory',\n",
    "    'Income Group based in World Bank 10 definition', 'Region',\n",
    "    '2016 CPI Score', '2015 CPI Score', '2014 CPI Score', '2013 CPI Score',\n",
    "    '2012 CPI Score', \n",
    "]]\n",
    "cpi_older.head()"
   ]
  },
  {
   "cell_type": "code",
   "execution_count": null,
   "metadata": {},
   "outputs": [],
   "source": [
    "cpi_older.tail()"
   ]
  },
  {
   "cell_type": "markdown",
   "metadata": {},
   "source": [
    "To make the datasets joinable, we need to change the country names to ISO 3166-1 alpha-3 codes, as are used in the 2017 data set."
   ]
  },
  {
   "cell_type": "code",
   "execution_count": null,
   "metadata": {},
   "outputs": [],
   "source": [
    "countries = pd.read_csv('https://pkgstore.datahub.io/core/country-codes/country-codes_csv/data/3b9fd39bdadd7edd7f7dcee708f47e1b/country-codes_csv.csv')[[\n",
    "    'ISO3166-1-Alpha-2',\n",
    "    'ISO3166-1-Alpha-3',\n",
    "    'official_name_en',\n",
    "    'CLDR display name'\n",
    "]]"
   ]
  },
  {
   "cell_type": "code",
   "execution_count": null,
   "metadata": {},
   "outputs": [],
   "source": [
    "countries.head()"
   ]
  },
  {
   "cell_type": "code",
   "execution_count": null,
   "metadata": {},
   "outputs": [],
   "source": [
    "codes = {}\n",
    "for row in countries.itertuples(index=False):\n",
    "    code2, code3, name, shortname = row\n",
    "    codes[name] = (code3, code2)\n",
    "    codes[shortname] = (code3, code2)"
   ]
  },
  {
   "cell_type": "code",
   "execution_count": null,
   "metadata": {},
   "outputs": [],
   "source": [
    "cpi_older = cpi_older.set_index('Country/Territory')"
   ]
  },
  {
   "cell_type": "markdown",
   "metadata": {},
   "source": [
    "Define the slice data frame"
   ]
  },
  {
   "cell_type": "code",
   "execution_count": null,
   "metadata": {},
   "outputs": [],
   "source": [
    "cpi = pd.DataFrame(columns=['country', 'year', 'cpi']).set_index(['country', 'year'])"
   ]
  },
  {
   "cell_type": "markdown",
   "metadata": {},
   "source": [
    "Define the dimension dataframes"
   ]
  },
  {
   "cell_type": "code",
   "execution_count": null,
   "metadata": {},
   "outputs": [],
   "source": [
    "countries = pd.DataFrame(columns=['country', 'region', 'incomegroup']).set_index(['country'])"
   ]
  },
  {
   "cell_type": "code",
   "execution_count": null,
   "metadata": {},
   "outputs": [],
   "source": [
    "regions = pd.DataFrame({'region': sorted(set(cpi_older['Region']))})\n",
    "regions"
   ]
  },
  {
   "cell_type": "code",
   "execution_count": null,
   "metadata": {},
   "outputs": [],
   "source": [
    "incomegroups = pd.DataFrame({'incomegroup': sorted(set(cpi_older['Income Group based in World Bank 10 definition'].dropna()))})\n",
    "incomegroups"
   ]
  },
  {
   "cell_type": "markdown",
   "metadata": {},
   "source": [
    "Check whether the country name to ISO 3166-1 codes mapping is complete"
   ]
  },
  {
   "cell_type": "code",
   "execution_count": null,
   "metadata": {},
   "outputs": [],
   "source": [
    "for country in cpi_older.index:\n",
    "    code = codes.get(country)\n",
    "    if code is None:\n",
    "        print(country)"
   ]
  },
  {
   "cell_type": "markdown",
   "metadata": {},
   "source": [
    "Fix up the mismatches manually."
   ]
  },
  {
   "cell_type": "code",
   "execution_count": null,
   "metadata": {},
   "outputs": [],
   "source": [
    "codes.update({\n",
    "    'Congo Republic': ('COG', 'CG'),\n",
    "    'Côte d´Ivoire': ('CIV', 'CI'),\n",
    "    'Czech Republic': ('CZE', 'CZ'),\n",
    "    'The Democratic Republic of Congo': ('COD', 'CD'),\n",
    "    'The FYR of Macedonia': ('MKD', 'MK'),\n",
    "    'Korea (North)': ('PRK', 'KP'),\n",
    "    'Korea (South)': ('KOR', 'KR'),\n",
    "    'Kosovo': ('KSV', 'XK'),\n",
    "    'Sao Tome & Principe': ('STP', 'ST'),\n",
    "    'United Kingdom': ('GBR', 'GB'),\n",
    "    'United States': ('USA', 'US') ,\n",
    "    'Yugoslavia': ('YUG', 'YU'),\n",
    "})"
   ]
  },
  {
   "cell_type": "markdown",
   "metadata": {},
   "source": [
    "Now we can fill the dimension and CPI slice (for 2012-2016) data frames."
   ]
  },
  {
   "cell_type": "code",
   "execution_count": null,
   "metadata": {},
   "outputs": [],
   "source": [
    "for country in cpi_older.index:\n",
    "    code = codes[country][1]\n",
    "    countries.loc[code, 'region'] = cpi_older.loc[country, 'Region']\n",
    "    countries.loc[code, 'incomegroup'] = cpi_older.loc[country, 'Income Group based in World Bank 10 definition']\n",
    "    for year in range(2012, 2017):\n",
    "        cpi.loc[(code, year), 'cpi'] =  cpi_older.loc[country, str(year) + ' CPI Score']\n",
    "        "
   ]
  },
  {
   "cell_type": "markdown",
   "metadata": {},
   "source": [
    "And now add the 2017 data to the CPI slice dataframe -- it needs to be mapped from alpha3 to alpha2 code."
   ]
  },
  {
   "cell_type": "code",
   "execution_count": null,
   "metadata": {},
   "outputs": [],
   "source": [
    "codes3to2 = dict(codes.values())"
   ]
  },
  {
   "cell_type": "code",
   "execution_count": null,
   "metadata": {},
   "outputs": [],
   "source": [
    "cpi2017['year'] = 2017\n",
    "cpi2017['ISO2'] = cpi2017['ISO3'].apply(lambda x: codes3to2[x])\n",
    "cpi2017 = cpi2017[['ISO2', 'year', 'CPI Score 2017']].rename(columns={\n",
    "    'ISO2': 'country',\n",
    "    'CPI Score 2017': 'cpi'\n",
    "}).set_index(['country', 'year'])"
   ]
  },
  {
   "cell_type": "code",
   "execution_count": null,
   "metadata": {},
   "outputs": [],
   "source": [
    "cpi = cpi.reset_index().append(cpi2017['cpi'].reset_index()).dropna().set_index(['country', 'year']).sort_index().dropna()"
   ]
  },
  {
   "cell_type": "markdown",
   "metadata": {},
   "source": [
    "And write the dataframes out to CSV."
   ]
  },
  {
   "cell_type": "code",
   "execution_count": null,
   "metadata": {},
   "outputs": [],
   "source": [
    "cpi.to_csv('cpi_by_country.csv')"
   ]
  },
  {
   "cell_type": "code",
   "execution_count": null,
   "metadata": {},
   "outputs": [],
   "source": [
    "countries.sort_index().reset_index().dropna().to_csv('countries.csv', index=False)\n",
    "regions.sort_values(by='region').to_csv('regions.csv', index=False)\n",
    "incomegroups.sort_values(by='incomegroup').to_csv('incomegroups.csv', index=False)"
   ]
  },
  {
   "cell_type": "markdown",
   "metadata": {},
   "source": [
    "Now make some aggregated slices for regions and incomegroups"
   ]
  },
  {
   "cell_type": "code",
   "execution_count": null,
   "metadata": {},
   "outputs": [],
   "source": [
    "cpi = cpi.reset_index()"
   ]
  },
  {
   "cell_type": "code",
   "execution_count": null,
   "metadata": {},
   "outputs": [],
   "source": [
    "cpi['region'] = cpi['country'].apply(lambda x: countries.loc[x, 'region'])\n",
    "cpi['incomegroup'] = cpi['country'].apply(lambda x: countries.loc[x, 'incomegroup'])"
   ]
  },
  {
   "cell_type": "code",
   "execution_count": null,
   "metadata": {},
   "outputs": [],
   "source": [
    "cpi.groupby(['region', 'year']).agg(np.mean)[['cpi']].to_csv('cpi_by_region.csv')"
   ]
  },
  {
   "cell_type": "code",
   "execution_count": null,
   "metadata": {},
   "outputs": [],
   "source": [
    "cpi.groupby(['incomegroup', 'year']).agg(np.mean)[['cpi']].to_csv('cpi_by_incomegroup.csv')"
   ]
  }
 ],
 "metadata": {
  "language_info": {
   "name": "python",
   "pygments_lexer": "ipython3"
  }
 },
 "nbformat": 4,
 "nbformat_minor": 2
}
